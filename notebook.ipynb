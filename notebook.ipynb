{
 "cells": [
  {
   "cell_type": "code",
   "execution_count": 1,
   "metadata": {},
   "outputs": [],
   "source": [
    "import numpy as np\n",
    "import torch\n",
    "import torch.nn as nn\n",
    "import torch.optim as optim\n",
    "import matplotlib.pyplot as plt"
   ]
  },
  {
   "cell_type": "code",
   "execution_count": 2,
   "metadata": {},
   "outputs": [],
   "source": [
    "# Target function to approximate\n",
    "def target_function(x):\n",
    "    return (\n",
    "        np.sin(3 * x[:, 0]) + np.sin(3 * x[:, 1]) + np.sin(3 * x[:, 2]) - 2\n",
    "    ) ** 2 * np.cos(7 * x[:, 3])"
   ]
  },
  {
   "cell_type": "code",
   "execution_count": 3,
   "metadata": {},
   "outputs": [],
   "source": [
    "# random gaussian vector of dim d\n",
    "def generate_data(N, d=4, seed=42):\n",
    "    np.random.seed(seed)\n",
    "    x = np.random.randn(N, d)  # Generate Gaussian features\n",
    "    x /= np.linalg.norm(x, axis=1, keepdims=True)  # Normalize\n",
    "    y = target_function(x)\n",
    "    return torch.tensor(x, dtype=torch.float32), torch.tensor(\n",
    "        y, dtype=torch.float32\n",
    "    ).view(-1, 1)"
   ]
  },
  {
   "cell_type": "code",
   "execution_count": 4,
   "metadata": {},
   "outputs": [],
   "source": [
    "class TwoLayerNN(nn.Module):\n",
    "    def __init__(self, input_dim, hidden_dim):\n",
    "        super(TwoLayerNN, self).__init__()\n",
    "        self.fc1 = nn.Linear(input_dim, hidden_dim)\n",
    "        self.fc2 = nn.Linear(hidden_dim, 1)\n",
    "        self.relu = nn.ReLU()\n",
    "\n",
    "    def forward(self, x):\n",
    "        return self.fc2(self.relu(self.fc1(x)))"
   ]
  },
  {
   "cell_type": "code",
   "execution_count": 5,
   "metadata": {},
   "outputs": [],
   "source": [
    "class ThreeLayerNN(nn.Module):\n",
    "    def __init__(self, input_dim, hidden_dim1, hidden_dim2):\n",
    "        super(ThreeLayerNN, self).__init__()\n",
    "        self.fc1 = nn.Linear(input_dim, hidden_dim1)\n",
    "        self.fc2 = nn.Linear(hidden_dim1, hidden_dim2)\n",
    "        self.fc3 = nn.Linear(hidden_dim2, 1)\n",
    "        self.relu = nn.ReLU()\n",
    "\n",
    "    def forward(self, x):\n",
    "        return self.fc3(self.relu(self.fc2(self.relu(self.fc1(x)))))"
   ]
  },
  {
   "cell_type": "code",
   "execution_count": 6,
   "metadata": {},
   "outputs": [],
   "source": [
    "class ThreeLayerLastOnly(nn.Module):\n",
    "    def __init__(self, input_dim, hidden_dim1, hidden_dim2):\n",
    "        super(ThreeLayerLastOnly, self).__init__()\n",
    "        self.fc1 = nn.Linear(input_dim, hidden_dim1)\n",
    "        self.fc2 = nn.Linear(hidden_dim1, hidden_dim2)\n",
    "        self.fc3 = nn.Linear(hidden_dim2, 1)\n",
    "        self.relu = nn.ReLU()\n",
    "\n",
    "        # Freeze first and second layers\n",
    "        for param in self.fc1.parameters():\n",
    "            param.requires_grad = False\n",
    "        for param in self.fc2.parameters():\n",
    "            param.requires_grad = False\n",
    "\n",
    "    def forward(self, x):\n",
    "        with torch.no_grad():\n",
    "            x = self.relu(self.fc1(x))\n",
    "            x = self.relu(self.fc2(x))\n",
    "        return self.fc3(x)"
   ]
  },
  {
   "cell_type": "code",
   "execution_count": 7,
   "metadata": {},
   "outputs": [],
   "source": [
    "def train_network(\n",
    "    model, x_train, y_train, lr=0.01, weight_decay=1e-4, epochs=1000, batch_size=50\n",
    "):\n",
    "    criterion = nn.MSELoss()\n",
    "    optimizer = optim.SGD(model.parameters(), lr=lr, weight_decay=weight_decay)\n",
    "    dataset = torch.utils.data.TensorDataset(x_train, y_train)\n",
    "    dataloader = torch.utils.data.DataLoader(\n",
    "        dataset, batch_size=batch_size, shuffle=True\n",
    "    )\n",
    "\n",
    "    for epoch in range(epochs):\n",
    "        for batch_x, batch_y in dataloader:\n",
    "            optimizer.zero_grad()\n",
    "            output = model(batch_x)\n",
    "            loss = criterion(output, batch_y)\n",
    "            loss.backward()\n",
    "            optimizer.step()\n",
    "        if epoch % 100 == 0:\n",
    "            print(f\"Epoch {epoch}/{epochs}, Loss: {loss.item():.4f}\")"
   ]
  },
  {
   "cell_type": "code",
   "execution_count": 8,
   "metadata": {},
   "outputs": [],
   "source": [
    "# NTK : here we are simply training a linear model on the feature map\n",
    "def train_ntk_model(model, x_train, y_train, lr=0.01, weight_decay=1e-4, epochs=1000):\n",
    "    model.eval()\n",
    "    with torch.no_grad():\n",
    "        feature_map = model(x_train)\n",
    "\n",
    "    ntk_model = nn.Linear(feature_map.shape[1], 1)\n",
    "    optimizer = optim.SGD(ntk_model.parameters(), lr=lr, weight_decay=weight_decay)\n",
    "    criterion = nn.MSELoss()\n",
    "\n",
    "    for epoch in range(epochs):\n",
    "        optimizer.zero_grad()\n",
    "        output = ntk_model(feature_map)\n",
    "        loss = criterion(output, y_train)\n",
    "        loss.backward()\n",
    "        optimizer.step()\n",
    "        if epoch % 100 == 0:\n",
    "            print(f\"NTK Epoch {epoch}/{epochs}, Loss: {loss.item():.4f}\")\n",
    "\n",
    "    return ntk_model"
   ]
  },
  {
   "cell_type": "code",
   "execution_count": 9,
   "metadata": {},
   "outputs": [],
   "source": [
    "def evaluate_model(model, x_test, y_test):\n",
    "    model.eval()\n",
    "    with torch.no_grad():\n",
    "        y_pred = model(x_test).detach().numpy()\n",
    "    test_error = np.mean((y_pred - y_test.numpy()) ** 2)\n",
    "    return test_error"
   ]
  },
  {
   "cell_type": "code",
   "execution_count": 10,
   "metadata": {},
   "outputs": [
    {
     "name": "stdout",
     "output_type": "stream",
     "text": [
      "\n",
      "Training Two-Layer Network...\n",
      "Epoch 0/1000, Loss: 23.7841\n",
      "Epoch 100/1000, Loss: 26.5835\n",
      "Epoch 200/1000, Loss: 8.5526\n",
      "Epoch 300/1000, Loss: 5.3122\n",
      "Epoch 400/1000, Loss: 3.2905\n",
      "Epoch 500/1000, Loss: 3.8524\n",
      "Epoch 600/1000, Loss: 3.6220\n",
      "Epoch 700/1000, Loss: 2.0085\n",
      "Epoch 800/1000, Loss: 3.6517\n",
      "Epoch 900/1000, Loss: 1.2735\n",
      "\n",
      "Training Three-Layer Network...\n",
      "Epoch 0/1000, Loss: 37.5163\n",
      "Epoch 100/1000, Loss: 2.2686\n",
      "Epoch 200/1000, Loss: 0.9975\n",
      "Epoch 300/1000, Loss: 0.5208\n",
      "Epoch 400/1000, Loss: 0.1267\n",
      "Epoch 500/1000, Loss: 0.1386\n",
      "Epoch 600/1000, Loss: 0.0853\n",
      "Epoch 700/1000, Loss: 0.0465\n",
      "Epoch 800/1000, Loss: 0.0424\n",
      "Epoch 900/1000, Loss: 0.0244\n",
      "\n",
      "Training Three-Layer (Last Layer Only)...\n",
      "Epoch 0/1000, Loss: 29.7510\n",
      "Epoch 100/1000, Loss: 38.1156\n",
      "Epoch 200/1000, Loss: 51.6928\n",
      "Epoch 300/1000, Loss: 38.7171\n",
      "Epoch 400/1000, Loss: 42.7348\n",
      "Epoch 500/1000, Loss: 15.5988\n",
      "Epoch 600/1000, Loss: 23.2835\n",
      "Epoch 700/1000, Loss: 7.2806\n",
      "Epoch 800/1000, Loss: 21.0167\n",
      "Epoch 900/1000, Loss: 31.8934\n",
      "Two-Layer NN: Test Error = 4.6035\n",
      "Three-Layer NN: Test Error = 0.1699\n",
      "Three-Layer (Last Layer): Test Error = 32.3959\n",
      "NTK Approximation: Test Error = 0.0000\n"
     ]
    },
    {
     "data": {
      "image/png": "[encoded data removed]",
      "text/plain": [
       "<Figure size 640x480 with 1 Axes>"
      ]
     },
     "metadata": {},
     "output_type": "display_data"
    }
   ],
   "source": [
    "def main_experiment(N=1000, hidden_dim1=200, hidden_dim2=100, epochs=1000):\n",
    "    x_train, y_train = generate_data(N)\n",
    "    x_test, y_test = generate_data(N=200)\n",
    "\n",
    "    # 2-Layer\n",
    "    model_two_layer = TwoLayerNN(input_dim=4, hidden_dim=hidden_dim1)\n",
    "    print(\"\\nTraining Two-Layer Network...\")\n",
    "    train_network(model_two_layer, x_train, y_train, epochs=epochs)\n",
    "    error_two_layer = evaluate_model(model_two_layer, x_test, y_test)\n",
    "\n",
    "    # 3-Layer (full)\n",
    "    model_three_layer = ThreeLayerNN(\n",
    "        input_dim=4, hidden_dim1=hidden_dim1, hidden_dim2=hidden_dim2\n",
    "    )\n",
    "    print(\"\\nTraining Three-Layer Network...\")\n",
    "    train_network(model_three_layer, x_train, y_train, epochs=epochs)\n",
    "    error_three_layer = evaluate_model(model_three_layer, x_test, y_test)\n",
    "\n",
    "    # 3-Layer ( last)\n",
    "    model_three_layer_last = ThreeLayerLastOnly(\n",
    "        input_dim=4, hidden_dim1=hidden_dim1, hidden_dim2=hidden_dim2\n",
    "    )\n",
    "    print(\"\\nTraining Three-Layer (Last Layer Only)...\")\n",
    "    train_network(model_three_layer_last, x_train, y_train, epochs=epochs)\n",
    "    error_three_layer_last = evaluate_model(model_three_layer_last, x_test, y_test)\n",
    "\n",
    "    # NTK\n",
    "    # print(\"\\nTraining NTK Approximation Model...\")\n",
    "    # ntk_model = train_ntk_model(model_three_layer, x_train, y_train, epochs=epochs)\n",
    "    # error_ntk = evaluate_model(\n",
    "    #     lambda x: ntk_model(model_three_layer(x)), x_test, y_test\n",
    "    # )\n",
    "    error_ntk = 0\n",
    "\n",
    "    results = {\n",
    "        \"Two-Layer NN\": error_two_layer,\n",
    "        \"Three-Layer NN\": error_three_layer,\n",
    "        \"Three-Layer (Last Layer)\": error_three_layer_last,\n",
    "        \"NTK Approximation\": error_ntk,\n",
    "    }\n",
    "\n",
    "    for model, err in results.items():\n",
    "        print(f\"{model}: Test Error = {err:.4f}\")\n",
    "\n",
    "    plt.bar(results.keys(), results.values(), color=[\"blue\", \"green\", \"red\", \"purple\"])\n",
    "    plt.ylabel(\"Test Error\")\n",
    "    plt.title(\"Comparison of Model Performance\")\n",
    "    plt.show()\n",
    "\n",
    "\n",
    "main_experiment()"
   ]
  }
 ],
 "metadata": {
  "kernelspec": {
   "display_name": "base",
   "language": "python",
   "name": "python3"
  },
  "language_info": {
   "codemirror_mode": {
    "name": "ipython",
    "version": 3
   },
   "file_extension": ".py",
   "mimetype": "text/x-python",
   "name": "python",
   "nbconvert_exporter": "python",
   "pygments_lexer": "ipython3",
   "version": "3.12.2"
  }
 },
 "nbformat": 4,
 "nbformat_minor": 2
}
